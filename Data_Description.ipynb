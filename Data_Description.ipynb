{
 "cells": [
  {
   "cell_type": "markdown",
   "metadata": {},
   "source": [
    "<h1><center>Segmenting Hospitals via Category</center></h1>"
   ]
  },
  {
   "cell_type": "markdown",
   "metadata": {},
   "source": [
    "## Data Description:"
   ]
  },
  {
   "cell_type": "markdown",
   "metadata": {},
   "source": [
    "The data that can be used are hospital data with specific fields like `name`, `category`, `coords`, `city`, `state`, `landmark`, `annaual-rating`, `...`. This includes the data of various hospitals with different categories. Some hospitals may even have multiple categories like `Ophthalmology`, `Cardiovascular`, `Neurological-Diseases`, `ENT`, `General fever & flu`, `...`. Based on various factors we have to cluster each type and infer some statistical insights so that at the end the patient can decide which is best for him/her."
   ]
  },
  {
   "cell_type": "markdown",
   "metadata": {},
   "source": [
    "|hospital_name|category|coords|city|state|landmark|annual_rating/5|\n",
    "|---|---|---|---|---|---|---|\n",
    "|Cardio-care|heart|lat, lng|city|state|address|5|\n",
    "|...|...|...|...|...|...|...|\n",
    "|Eye-care|eyes|lat, lng|city|state|address|4|"
   ]
  },
  {
   "cell_type": "markdown",
   "metadata": {},
   "source": [
    "And by leveraging Foursquare API, using the `RADIUS` and `LIMIT` attributes and by mapping the hospital datasets with the Foursquare location datasets we can show the hosiptals and clusters by category or performace within that radius.\n",
    "\n",
    "<img src='example_image.png'>\n",
    "\n",
    "In order to get the hospitals data we can use the `API` call \n",
    "\n",
    "`https://api.foursquare.com/v2/venues/search?ll=lat,lng&categoryId=4bf58dd8d48988d196941735&client_id=MYCLIENTID&client_secret=MYCLIENTSECRET&limit=1&v=20180628`\n",
    "\n",
    "and by `parsing` the important features like `latitude`, `longitude` and `hospital-name`, we need sort of map the name with the name in the hospital dataset. This will require patience and persistent in order to see the expected results."
   ]
  },
  {
   "cell_type": "markdown",
   "metadata": {},
   "source": [
    "## Why mapping two datasets?"
   ]
  },
  {
   "cell_type": "markdown",
   "metadata": {},
   "source": [
    "Either way we can the hopital data using Foursquare API. The point is not to just extract the data but also to recommend the best hospital based on the patient's criterion. At the end, the application should be able to give a proper summary or information of each category or cluster of hospitals and recommend the best among the best."
   ]
  },
  {
   "cell_type": "markdown",
   "metadata": {},
   "source": [
    "---"
   ]
  },
  {
   "cell_type": "markdown",
   "metadata": {},
   "source": [
    "## Credits"
   ]
  },
  {
   "cell_type": "markdown",
   "metadata": {},
   "source": [
    "* Google Images $\\rightarrow$ http://goaspro.com/wp-content/uploads/2019/05/screenshot-eu-gb.dataplatform.cloud_.ibm_.com-2019.05.13-09-41-23.png"
   ]
  }
 ],
 "metadata": {
  "kernelspec": {
   "display_name": "Python 3",
   "language": "python",
   "name": "python3"
  },
  "language_info": {
   "codemirror_mode": {
    "name": "ipython",
    "version": 3
   },
   "file_extension": ".py",
   "mimetype": "text/x-python",
   "name": "python",
   "nbconvert_exporter": "python",
   "pygments_lexer": "ipython3",
   "version": "3.7.4"
  }
 },
 "nbformat": 4,
 "nbformat_minor": 2
}
