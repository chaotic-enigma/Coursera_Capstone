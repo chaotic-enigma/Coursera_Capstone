{
 "cells": [
  {
   "cell_type": "markdown",
   "metadata": {},
   "source": [
    "<h1><center>Segmenting Hospitals via Category</center></h1>"
   ]
  },
  {
   "cell_type": "markdown",
   "metadata": {},
   "source": [
    "## Problem Statement:"
   ]
  },
  {
   "cell_type": "markdown",
   "metadata": {},
   "source": [
    "Often times it makes very difficult for a patient or a sufferer to choose the best hospital for his/her problem. They basically end up surfing online and what not. In order to reduce this, we can develop a user interface application where the patient can search for his/her problem and based on the user's location it should be able to segregate all the hospitals with a specific category and a breif summary or information about each cluster in order to help patient go with his/her valid decision."
   ]
  },
  {
   "cell_type": "markdown",
   "metadata": {},
   "source": [
    "By leveraging Foursquare API, we can easily get all the hospital locations and by keeping the patient's location center, we can show all the hospitals on a map. For the hospital information, we can map different hospital datasets with location dataset and infer or get an insightful result. "
   ]
  },
  {
   "cell_type": "markdown",
   "metadata": {},
   "source": [
    "<img src=\"distribution_of_clusters_hospitals_institutions.jpg\">"
   ]
  },
  {
   "cell_type": "markdown",
   "metadata": {},
   "source": [
    "This is a simple demonstration in which the patient can make use of it."
   ]
  },
  {
   "cell_type": "markdown",
   "metadata": {},
   "source": [
    "---"
   ]
  },
  {
   "cell_type": "markdown",
   "metadata": {},
   "source": [
    "## Credits"
   ]
  },
  {
   "cell_type": "markdown",
   "metadata": {},
   "source": [
    "* Google Images $\\rightarrow$ https://www.ha.org.hk/visitor/v3/images/distribution_of_clusters_hospitals_institutions.jpg"
   ]
  }
 ],
 "metadata": {
  "kernelspec": {
   "display_name": "Python 3",
   "language": "python",
   "name": "python3"
  },
  "language_info": {
   "codemirror_mode": {
    "name": "ipython",
    "version": 3
   },
   "file_extension": ".py",
   "mimetype": "text/x-python",
   "name": "python",
   "nbconvert_exporter": "python",
   "pygments_lexer": "ipython3",
   "version": "3.7.4"
  }
 },
 "nbformat": 4,
 "nbformat_minor": 2
}
