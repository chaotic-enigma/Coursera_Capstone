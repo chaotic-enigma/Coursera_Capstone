{
 "cells": [
  {
   "cell_type": "markdown",
   "metadata": {},
   "source": [
    "## Introduction"
   ]
  },
  {
   "cell_type": "markdown",
   "metadata": {},
   "source": [
    "Often times it makes very difficult for a patient or a sufferer to choose the best hospital for his/her problem. They basically end up surfing online and what not. In order to reduce this, we can develop a user interface application where the patient can search for his/her problem and based on the user's location it should be able to segregate all the hospitals with a specific category and a breif summary or information about each cluster in order to help patient go with his/her valid decision.\n",
    "\n",
    "By leveraging Foursquare API, we can easily get all the hospital locations and by keeping the patient's location center, we can show all the hospitals on a map.\n",
    "\n",
    "The below is the procedure."
   ]
  },
  {
   "cell_type": "markdown",
   "metadata": {},
   "source": [
    "### Importing the required packages"
   ]
  },
  {
   "cell_type": "code",
   "execution_count": 1,
   "metadata": {},
   "outputs": [],
   "source": [
    "import numpy as np\n",
    "import pandas as pd\n",
    "import requests\n",
    "import matplotlib.pyplot as plt\n",
    "from matplotlib import style\n",
    "%matplotlib inline\n",
    "\n",
    "style.use('fivethirtyeight')\n",
    "\n",
    "from sklearn.cluster import KMeans\n",
    "\n",
    "import folium"
   ]
  },
  {
   "cell_type": "markdown",
   "metadata": {},
   "source": [
    "### Foursquare Credentials"
   ]
  },
  {
   "cell_type": "markdown",
   "metadata": {},
   "source": [
    "No matter what the `LIMIT` we take we only get `50` Hospitals along with the categories. We will need to parse it using `requests` library."
   ]
  },
  {
   "cell_type": "code",
   "execution_count": 2,
   "metadata": {},
   "outputs": [
    {
     "name": "stdout",
     "output_type": "stream",
     "text": [
      "Your credentails:\n",
      "CLIENT_ID: ETQ33G4L2CFULPMCLWFBWOWCNCH0Y4HCYZCPC03HA1NDR3BW\n",
      "CLIENT_SECRET:XYBA3LKD5MAO34WXR5BUNHHKFDOCU3KYAWDPKOD1BCVYHCN2\n"
     ]
    }
   ],
   "source": [
    "CLIENT_ID = 'ETQ33G4L2CFULPMCLWFBWOWCNCH0Y4HCYZCPC03HA1NDR3BW' # your Foursquare ID\n",
    "CLIENT_SECRET = 'XYBA3LKD5MAO34WXR5BUNHHKFDOCU3KYAWDPKOD1BCVYHCN2' # your Foursquare Secret\n",
    "VERSION = '20180628' # Foursquare API version\n",
    "CATEGORY_ID = '4bf58dd8d48988d104941735'\n",
    "LIMIT = 50\n",
    "print('Your credentails:')\n",
    "print('CLIENT_ID: ' + CLIENT_ID)\n",
    "print('CLIENT_SECRET:' + CLIENT_SECRET)"
   ]
  },
  {
   "cell_type": "markdown",
   "metadata": {},
   "source": [
    "### Grabbing the hospitals according the patient's LAT & LON"
   ]
  },
  {
   "cell_type": "code",
   "execution_count": 3,
   "metadata": {},
   "outputs": [],
   "source": [
    "def getAllHospitals(PLACE_LAT, PLACE_LON):\n",
    "    data = [['Name', 'Latitude', 'Longitude', 'Address', 'City', 'State', 'Category']]\n",
    "    url = 'https://api.foursquare.com/v2/venues/search?ll={},{}&categoryId={}&client_id={}&client_secret={}&limit={}&v={}'.format(\n",
    "        PLACE_LAT,\n",
    "        PLACE_LON,\n",
    "        CATEGORY_ID,\n",
    "        CLIENT_ID,\n",
    "        CLIENT_SECRET,\n",
    "        LIMIT,\n",
    "        VERSION\n",
    "    )\n",
    "#     print(url)\n",
    "    result = requests.get(url).json()['response']['venues']\n",
    "    for res in range(len(result)):\n",
    "        name = result[res]['name']\n",
    "        location = result[res]['location']\n",
    "        category = result[res]['categories'][0]['shortName']\n",
    "        if len(location) > 11:\n",
    "            latitude = result[res]['location']['lat']\n",
    "            longitude = result[res]['location']['lng']\n",
    "            address = result[res]['location']['address']\n",
    "            city = result[res]['location']['city']\n",
    "            state = result[res]['location']['state']\n",
    "            data.append([\n",
    "                name,\n",
    "                latitude,\n",
    "                longitude,\n",
    "                address,\n",
    "                city,\n",
    "                state,\n",
    "                category])\n",
    "        else:\n",
    "            latitude = result[res]['location']['lat']\n",
    "            longitude = result[res]['location']['lng']\n",
    "            city = 'Bangalore'\n",
    "            state = 'Karnātaka'\n",
    "            data.append([name,\n",
    "                         latitude,\n",
    "                         longitude,\n",
    "                         np.nan,\n",
    "                         city,\n",
    "                         state,\n",
    "                         category])\n",
    "    return data"
   ]
  },
  {
   "cell_type": "markdown",
   "metadata": {},
   "source": [
    "Since we are taking the hospitals as per patient's location, we will assign city as `Bangalore` and state as `Karnataka`. Above is the function that summarizes the following extracting the data."
   ]
  },
  {
   "cell_type": "markdown",
   "metadata": {},
   "source": [
    "### Bangalore Location Coordinates\n",
    "<img src='example_image.png'>"
   ]
  },
  {
   "cell_type": "code",
   "execution_count": 4,
   "metadata": {},
   "outputs": [],
   "source": [
    "LAT = 12.9716\n",
    "LON= 77.5946"
   ]
  },
  {
   "cell_type": "code",
   "execution_count": 5,
   "metadata": {
    "scrolled": true
   },
   "outputs": [],
   "source": [
    "data = getAllHospitals(LAT, LON)"
   ]
  },
  {
   "cell_type": "markdown",
   "metadata": {},
   "source": [
    "The data that are obtained is not the complete `Hospital` data of a cerain region. But as of now we just got 50 data values."
   ]
  },
  {
   "cell_type": "markdown",
   "metadata": {},
   "source": [
    "The `data` are in the `list` format. We have to convert it into `pandas` `DataFrame()` seperating the `headers`."
   ]
  },
  {
   "cell_type": "code",
   "execution_count": 6,
   "metadata": {},
   "outputs": [
    {
     "data": {
      "text/html": [
       "<div>\n",
       "<style scoped>\n",
       "    .dataframe tbody tr th:only-of-type {\n",
       "        vertical-align: middle;\n",
       "    }\n",
       "\n",
       "    .dataframe tbody tr th {\n",
       "        vertical-align: top;\n",
       "    }\n",
       "\n",
       "    .dataframe thead th {\n",
       "        text-align: right;\n",
       "    }\n",
       "</style>\n",
       "<table border=\"1\" class=\"dataframe\">\n",
       "  <thead>\n",
       "    <tr style=\"text-align: right;\">\n",
       "      <th></th>\n",
       "      <th>Name</th>\n",
       "      <th>Latitude</th>\n",
       "      <th>Longitude</th>\n",
       "      <th>Address</th>\n",
       "      <th>City</th>\n",
       "      <th>State</th>\n",
       "      <th>Category</th>\n",
       "    </tr>\n",
       "  </thead>\n",
       "  <tbody>\n",
       "    <tr>\n",
       "      <td>0</td>\n",
       "      <td>Sagar Hospital</td>\n",
       "      <td>12.928226</td>\n",
       "      <td>77.599922</td>\n",
       "      <td>NaN</td>\n",
       "      <td>Bangalore</td>\n",
       "      <td>Karnātaka</td>\n",
       "      <td>Hospital</td>\n",
       "    </tr>\n",
       "    <tr>\n",
       "      <td>1</td>\n",
       "      <td>Fortis International Care</td>\n",
       "      <td>12.894674</td>\n",
       "      <td>77.599067</td>\n",
       "      <td>154/9, Opposite IIM B</td>\n",
       "      <td>Bangalore</td>\n",
       "      <td>Karnātaka</td>\n",
       "      <td>Hospital</td>\n",
       "    </tr>\n",
       "    <tr>\n",
       "      <td>2</td>\n",
       "      <td>Manipal Hospital</td>\n",
       "      <td>12.959238</td>\n",
       "      <td>77.649208</td>\n",
       "      <td>#98</td>\n",
       "      <td>Bangalore</td>\n",
       "      <td>Karnātaka</td>\n",
       "      <td>Hospital</td>\n",
       "    </tr>\n",
       "    <tr>\n",
       "      <td>3</td>\n",
       "      <td>Columbia Asia Hospital</td>\n",
       "      <td>13.050844</td>\n",
       "      <td>77.593750</td>\n",
       "      <td>Kirloskar Business Park, Bellary Rd</td>\n",
       "      <td>Bangalore</td>\n",
       "      <td>Karnātaka</td>\n",
       "      <td>Hospital</td>\n",
       "    </tr>\n",
       "    <tr>\n",
       "      <td>4</td>\n",
       "      <td>Apollo Hospital</td>\n",
       "      <td>12.896250</td>\n",
       "      <td>77.598653</td>\n",
       "      <td>NaN</td>\n",
       "      <td>Bangalore</td>\n",
       "      <td>Karnātaka</td>\n",
       "      <td>Hospital</td>\n",
       "    </tr>\n",
       "  </tbody>\n",
       "</table>\n",
       "</div>"
      ],
      "text/plain": [
       "                        Name   Latitude  Longitude  \\\n",
       "0             Sagar Hospital  12.928226  77.599922   \n",
       "1  Fortis International Care  12.894674  77.599067   \n",
       "2           Manipal Hospital  12.959238  77.649208   \n",
       "3     Columbia Asia Hospital  13.050844  77.593750   \n",
       "4            Apollo Hospital  12.896250  77.598653   \n",
       "\n",
       "                               Address       City      State  Category  \n",
       "0                                  NaN  Bangalore  Karnātaka  Hospital  \n",
       "1                154/9, Opposite IIM B  Bangalore  Karnātaka  Hospital  \n",
       "2                                  #98  Bangalore  Karnātaka  Hospital  \n",
       "3  Kirloskar Business Park, Bellary Rd  Bangalore  Karnātaka  Hospital  \n",
       "4                                  NaN  Bangalore  Karnātaka  Hospital  "
      ]
     },
     "execution_count": 6,
     "metadata": {},
     "output_type": "execute_result"
    }
   ],
   "source": [
    "df = pd.DataFrame(data[1:], columns=data[0])\n",
    "df.head()"
   ]
  },
  {
   "cell_type": "code",
   "execution_count": 7,
   "metadata": {},
   "outputs": [
    {
     "data": {
      "text/plain": [
       "Hospital              35\n",
       "Medical                8\n",
       "Dentist's Office       2\n",
       "Medical Lab            2\n",
       "Doctor's Office        1\n",
       "Physical Therapist     1\n",
       "Chiropractors          1\n",
       "Name: Category, dtype: int64"
      ]
     },
     "execution_count": 7,
     "metadata": {},
     "output_type": "execute_result"
    }
   ],
   "source": [
    "df['Category'].value_counts()"
   ]
  },
  {
   "cell_type": "markdown",
   "metadata": {},
   "source": [
    "As we can see that there are 35 typical `Hospital`'s and the following categories goes on. As per the data we have only one `Doctor's Office`, `Chiropractors` and `Physical Therapist`."
   ]
  },
  {
   "cell_type": "markdown",
   "metadata": {},
   "source": [
    "Let's visualize the above result to get understand better. We will use `pandas` `plot` function keeping the `kind=bar`."
   ]
  },
  {
   "cell_type": "code",
   "execution_count": 8,
   "metadata": {},
   "outputs": [
    {
     "data": {
      "text/plain": [
       "<matplotlib.axes._subplots.AxesSubplot at 0x7ffb641d6550>"
      ]
     },
     "execution_count": 8,
     "metadata": {},
     "output_type": "execute_result"
    },
    {
     "data": {
      "image/png": "[encoded data removed]",
      "text/plain": [
       "<Figure size 1080x576 with 1 Axes>"
      ]
     },
     "metadata": {
      "needs_background": "light"
     },
     "output_type": "display_data"
    }
   ],
   "source": [
    "df['Category'].value_counts().plot(\n",
    "    kind='bar',\n",
    "    figsize=(15, 8)\n",
    ")"
   ]
  },
  {
   "cell_type": "markdown",
   "metadata": {},
   "source": [
    "As we know `Hospital` is leading with 35 and the rest follows."
   ]
  },
  {
   "cell_type": "markdown",
   "metadata": {},
   "source": [
    "Let's drop `Address` column as we do not require and most of them are `NaN` values."
   ]
  },
  {
   "cell_type": "code",
   "execution_count": 9,
   "metadata": {
    "scrolled": true
   },
   "outputs": [
    {
     "data": {
      "text/html": [
       "<div>\n",
       "<style scoped>\n",
       "    .dataframe tbody tr th:only-of-type {\n",
       "        vertical-align: middle;\n",
       "    }\n",
       "\n",
       "    .dataframe tbody tr th {\n",
       "        vertical-align: top;\n",
       "    }\n",
       "\n",
       "    .dataframe thead th {\n",
       "        text-align: right;\n",
       "    }\n",
       "</style>\n",
       "<table border=\"1\" class=\"dataframe\">\n",
       "  <thead>\n",
       "    <tr style=\"text-align: right;\">\n",
       "      <th></th>\n",
       "      <th>Name</th>\n",
       "      <th>Latitude</th>\n",
       "      <th>Longitude</th>\n",
       "      <th>City</th>\n",
       "      <th>State</th>\n",
       "      <th>Category</th>\n",
       "    </tr>\n",
       "  </thead>\n",
       "  <tbody>\n",
       "    <tr>\n",
       "      <td>0</td>\n",
       "      <td>Sagar Hospital</td>\n",
       "      <td>12.928226</td>\n",
       "      <td>77.599922</td>\n",
       "      <td>Bangalore</td>\n",
       "      <td>Karnātaka</td>\n",
       "      <td>Hospital</td>\n",
       "    </tr>\n",
       "    <tr>\n",
       "      <td>1</td>\n",
       "      <td>Fortis International Care</td>\n",
       "      <td>12.894674</td>\n",
       "      <td>77.599067</td>\n",
       "      <td>Bangalore</td>\n",
       "      <td>Karnātaka</td>\n",
       "      <td>Hospital</td>\n",
       "    </tr>\n",
       "    <tr>\n",
       "      <td>2</td>\n",
       "      <td>Manipal Hospital</td>\n",
       "      <td>12.959238</td>\n",
       "      <td>77.649208</td>\n",
       "      <td>Bangalore</td>\n",
       "      <td>Karnātaka</td>\n",
       "      <td>Hospital</td>\n",
       "    </tr>\n",
       "    <tr>\n",
       "      <td>3</td>\n",
       "      <td>Columbia Asia Hospital</td>\n",
       "      <td>13.050844</td>\n",
       "      <td>77.593750</td>\n",
       "      <td>Bangalore</td>\n",
       "      <td>Karnātaka</td>\n",
       "      <td>Hospital</td>\n",
       "    </tr>\n",
       "    <tr>\n",
       "      <td>4</td>\n",
       "      <td>Apollo Hospital</td>\n",
       "      <td>12.896250</td>\n",
       "      <td>77.598653</td>\n",
       "      <td>Bangalore</td>\n",
       "      <td>Karnātaka</td>\n",
       "      <td>Hospital</td>\n",
       "    </tr>\n",
       "  </tbody>\n",
       "</table>\n",
       "</div>"
      ],
      "text/plain": [
       "                        Name   Latitude  Longitude       City      State  \\\n",
       "0             Sagar Hospital  12.928226  77.599922  Bangalore  Karnātaka   \n",
       "1  Fortis International Care  12.894674  77.599067  Bangalore  Karnātaka   \n",
       "2           Manipal Hospital  12.959238  77.649208  Bangalore  Karnātaka   \n",
       "3     Columbia Asia Hospital  13.050844  77.593750  Bangalore  Karnātaka   \n",
       "4            Apollo Hospital  12.896250  77.598653  Bangalore  Karnātaka   \n",
       "\n",
       "   Category  \n",
       "0  Hospital  \n",
       "1  Hospital  \n",
       "2  Hospital  \n",
       "3  Hospital  \n",
       "4  Hospital  "
      ]
     },
     "execution_count": 9,
     "metadata": {},
     "output_type": "execute_result"
    }
   ],
   "source": [
    "df.drop(columns=['Address'], axis=1, inplace=True)\n",
    "df.head()"
   ]
  },
  {
   "cell_type": "markdown",
   "metadata": {},
   "source": [
    "Let's rename the `State` as `Karnataka` for our convenience."
   ]
  },
  {
   "cell_type": "code",
   "execution_count": 10,
   "metadata": {},
   "outputs": [
    {
     "data": {
      "text/html": [
       "<div>\n",
       "<style scoped>\n",
       "    .dataframe tbody tr th:only-of-type {\n",
       "        vertical-align: middle;\n",
       "    }\n",
       "\n",
       "    .dataframe tbody tr th {\n",
       "        vertical-align: top;\n",
       "    }\n",
       "\n",
       "    .dataframe thead th {\n",
       "        text-align: right;\n",
       "    }\n",
       "</style>\n",
       "<table border=\"1\" class=\"dataframe\">\n",
       "  <thead>\n",
       "    <tr style=\"text-align: right;\">\n",
       "      <th></th>\n",
       "      <th>Name</th>\n",
       "      <th>Latitude</th>\n",
       "      <th>Longitude</th>\n",
       "      <th>City</th>\n",
       "      <th>State</th>\n",
       "      <th>Category</th>\n",
       "    </tr>\n",
       "  </thead>\n",
       "  <tbody>\n",
       "    <tr>\n",
       "      <td>0</td>\n",
       "      <td>Sagar Hospital</td>\n",
       "      <td>12.928226</td>\n",
       "      <td>77.599922</td>\n",
       "      <td>Bangalore</td>\n",
       "      <td>Karnataka</td>\n",
       "      <td>Hospital</td>\n",
       "    </tr>\n",
       "    <tr>\n",
       "      <td>1</td>\n",
       "      <td>Fortis International Care</td>\n",
       "      <td>12.894674</td>\n",
       "      <td>77.599067</td>\n",
       "      <td>Bangalore</td>\n",
       "      <td>Karnataka</td>\n",
       "      <td>Hospital</td>\n",
       "    </tr>\n",
       "    <tr>\n",
       "      <td>2</td>\n",
       "      <td>Manipal Hospital</td>\n",
       "      <td>12.959238</td>\n",
       "      <td>77.649208</td>\n",
       "      <td>Bangalore</td>\n",
       "      <td>Karnataka</td>\n",
       "      <td>Hospital</td>\n",
       "    </tr>\n",
       "    <tr>\n",
       "      <td>3</td>\n",
       "      <td>Columbia Asia Hospital</td>\n",
       "      <td>13.050844</td>\n",
       "      <td>77.593750</td>\n",
       "      <td>Bangalore</td>\n",
       "      <td>Karnataka</td>\n",
       "      <td>Hospital</td>\n",
       "    </tr>\n",
       "    <tr>\n",
       "      <td>4</td>\n",
       "      <td>Apollo Hospital</td>\n",
       "      <td>12.896250</td>\n",
       "      <td>77.598653</td>\n",
       "      <td>Bangalore</td>\n",
       "      <td>Karnataka</td>\n",
       "      <td>Hospital</td>\n",
       "    </tr>\n",
       "  </tbody>\n",
       "</table>\n",
       "</div>"
      ],
      "text/plain": [
       "                        Name   Latitude  Longitude       City      State  \\\n",
       "0             Sagar Hospital  12.928226  77.599922  Bangalore  Karnataka   \n",
       "1  Fortis International Care  12.894674  77.599067  Bangalore  Karnataka   \n",
       "2           Manipal Hospital  12.959238  77.649208  Bangalore  Karnataka   \n",
       "3     Columbia Asia Hospital  13.050844  77.593750  Bangalore  Karnataka   \n",
       "4            Apollo Hospital  12.896250  77.598653  Bangalore  Karnataka   \n",
       "\n",
       "   Category  \n",
       "0  Hospital  \n",
       "1  Hospital  \n",
       "2  Hospital  \n",
       "3  Hospital  \n",
       "4  Hospital  "
      ]
     },
     "execution_count": 10,
     "metadata": {},
     "output_type": "execute_result"
    }
   ],
   "source": [
    "df['State'] = 'Karnataka'\n",
    "df.head()"
   ]
  },
  {
   "cell_type": "markdown",
   "metadata": {},
   "source": [
    "We require the following dataset in order to get dummies for further processing of One-hot-encoding."
   ]
  },
  {
   "cell_type": "code",
   "execution_count": 11,
   "metadata": {
    "scrolled": true
   },
   "outputs": [
    {
     "data": {
      "text/html": [
       "<div>\n",
       "<style scoped>\n",
       "    .dataframe tbody tr th:only-of-type {\n",
       "        vertical-align: middle;\n",
       "    }\n",
       "\n",
       "    .dataframe tbody tr th {\n",
       "        vertical-align: top;\n",
       "    }\n",
       "\n",
       "    .dataframe thead th {\n",
       "        text-align: right;\n",
       "    }\n",
       "</style>\n",
       "<table border=\"1\" class=\"dataframe\">\n",
       "  <thead>\n",
       "    <tr style=\"text-align: right;\">\n",
       "      <th></th>\n",
       "      <th>Category</th>\n",
       "      <th>Latitude</th>\n",
       "      <th>Longitude</th>\n",
       "    </tr>\n",
       "  </thead>\n",
       "  <tbody>\n",
       "    <tr>\n",
       "      <td>0</td>\n",
       "      <td>Hospital</td>\n",
       "      <td>12.928226</td>\n",
       "      <td>77.599922</td>\n",
       "    </tr>\n",
       "    <tr>\n",
       "      <td>1</td>\n",
       "      <td>Hospital</td>\n",
       "      <td>12.894674</td>\n",
       "      <td>77.599067</td>\n",
       "    </tr>\n",
       "    <tr>\n",
       "      <td>2</td>\n",
       "      <td>Hospital</td>\n",
       "      <td>12.959238</td>\n",
       "      <td>77.649208</td>\n",
       "    </tr>\n",
       "    <tr>\n",
       "      <td>3</td>\n",
       "      <td>Hospital</td>\n",
       "      <td>13.050844</td>\n",
       "      <td>77.593750</td>\n",
       "    </tr>\n",
       "    <tr>\n",
       "      <td>4</td>\n",
       "      <td>Hospital</td>\n",
       "      <td>12.896250</td>\n",
       "      <td>77.598653</td>\n",
       "    </tr>\n",
       "  </tbody>\n",
       "</table>\n",
       "</div>"
      ],
      "text/plain": [
       "   Category   Latitude  Longitude\n",
       "0  Hospital  12.928226  77.599922\n",
       "1  Hospital  12.894674  77.599067\n",
       "2  Hospital  12.959238  77.649208\n",
       "3  Hospital  13.050844  77.593750\n",
       "4  Hospital  12.896250  77.598653"
      ]
     },
     "execution_count": 11,
     "metadata": {},
     "output_type": "execute_result"
    }
   ],
   "source": [
    "temp_df = df[['Category', 'Latitude', 'Longitude']]\n",
    "temp_df.head()"
   ]
  },
  {
   "cell_type": "markdown",
   "metadata": {},
   "source": [
    "### Converting the data into One-Hot-Encoding"
   ]
  },
  {
   "cell_type": "code",
   "execution_count": 12,
   "metadata": {},
   "outputs": [
    {
     "data": {
      "text/html": [
       "<div>\n",
       "<style scoped>\n",
       "    .dataframe tbody tr th:only-of-type {\n",
       "        vertical-align: middle;\n",
       "    }\n",
       "\n",
       "    .dataframe tbody tr th {\n",
       "        vertical-align: top;\n",
       "    }\n",
       "\n",
       "    .dataframe thead th {\n",
       "        text-align: right;\n",
       "    }\n",
       "</style>\n",
       "<table border=\"1\" class=\"dataframe\">\n",
       "  <thead>\n",
       "    <tr style=\"text-align: right;\">\n",
       "      <th></th>\n",
       "      <th>Latitude</th>\n",
       "      <th>Longitude</th>\n",
       "      <th>Category_Chiropractors</th>\n",
       "      <th>Category_Dentist's Office</th>\n",
       "      <th>Category_Doctor's Office</th>\n",
       "      <th>Category_Hospital</th>\n",
       "      <th>Category_Medical</th>\n",
       "      <th>Category_Medical Lab</th>\n",
       "      <th>Category_Physical Therapist</th>\n",
       "    </tr>\n",
       "  </thead>\n",
       "  <tbody>\n",
       "    <tr>\n",
       "      <td>0</td>\n",
       "      <td>12.928226</td>\n",
       "      <td>77.599922</td>\n",
       "      <td>0</td>\n",
       "      <td>0</td>\n",
       "      <td>0</td>\n",
       "      <td>1</td>\n",
       "      <td>0</td>\n",
       "      <td>0</td>\n",
       "      <td>0</td>\n",
       "    </tr>\n",
       "    <tr>\n",
       "      <td>1</td>\n",
       "      <td>12.894674</td>\n",
       "      <td>77.599067</td>\n",
       "      <td>0</td>\n",
       "      <td>0</td>\n",
       "      <td>0</td>\n",
       "      <td>1</td>\n",
       "      <td>0</td>\n",
       "      <td>0</td>\n",
       "      <td>0</td>\n",
       "    </tr>\n",
       "    <tr>\n",
       "      <td>2</td>\n",
       "      <td>12.959238</td>\n",
       "      <td>77.649208</td>\n",
       "      <td>0</td>\n",
       "      <td>0</td>\n",
       "      <td>0</td>\n",
       "      <td>1</td>\n",
       "      <td>0</td>\n",
       "      <td>0</td>\n",
       "      <td>0</td>\n",
       "    </tr>\n",
       "    <tr>\n",
       "      <td>3</td>\n",
       "      <td>13.050844</td>\n",
       "      <td>77.593750</td>\n",
       "      <td>0</td>\n",
       "      <td>0</td>\n",
       "      <td>0</td>\n",
       "      <td>1</td>\n",
       "      <td>0</td>\n",
       "      <td>0</td>\n",
       "      <td>0</td>\n",
       "    </tr>\n",
       "    <tr>\n",
       "      <td>4</td>\n",
       "      <td>12.896250</td>\n",
       "      <td>77.598653</td>\n",
       "      <td>0</td>\n",
       "      <td>0</td>\n",
       "      <td>0</td>\n",
       "      <td>1</td>\n",
       "      <td>0</td>\n",
       "      <td>0</td>\n",
       "      <td>0</td>\n",
       "    </tr>\n",
       "  </tbody>\n",
       "</table>\n",
       "</div>"
      ],
      "text/plain": [
       "    Latitude  Longitude  Category_Chiropractors  Category_Dentist's Office  \\\n",
       "0  12.928226  77.599922                       0                          0   \n",
       "1  12.894674  77.599067                       0                          0   \n",
       "2  12.959238  77.649208                       0                          0   \n",
       "3  13.050844  77.593750                       0                          0   \n",
       "4  12.896250  77.598653                       0                          0   \n",
       "\n",
       "   Category_Doctor's Office  Category_Hospital  Category_Medical  \\\n",
       "0                         0                  1                 0   \n",
       "1                         0                  1                 0   \n",
       "2                         0                  1                 0   \n",
       "3                         0                  1                 0   \n",
       "4                         0                  1                 0   \n",
       "\n",
       "   Category_Medical Lab  Category_Physical Therapist  \n",
       "0                     0                            0  \n",
       "1                     0                            0  \n",
       "2                     0                            0  \n",
       "3                     0                            0  \n",
       "4                     0                            0  "
      ]
     },
     "execution_count": 12,
     "metadata": {},
     "output_type": "execute_result"
    }
   ],
   "source": [
    "temp_df = pd.get_dummies(temp_df)\n",
    "temp_df.head()"
   ]
  },
  {
   "cell_type": "code",
   "execution_count": 13,
   "metadata": {},
   "outputs": [
    {
     "data": {
      "text/plain": [
       "{0: array([10, 16, 17, 26, 32, 36, 39, 44]),\n",
       " 1: array([ 0,  1,  2,  3,  4,  5,  6,  7,  8,  9, 14, 15, 19, 20, 21, 22, 23,\n",
       "        24, 25, 27, 28, 29, 30, 33, 34, 35, 38, 40, 41, 42, 43, 45, 46, 47,\n",
       "        49]),\n",
       " 2: array([13, 18]),\n",
       " 3: array([31, 37]),\n",
       " 4: array([11, 12, 48])}"
      ]
     },
     "execution_count": 13,
     "metadata": {},
     "output_type": "execute_result"
    }
   ],
   "source": [
    "clf_km = KMeans(n_clusters=5).fit(temp_df)\n",
    "unique_clusters = {i: np.where(clf_km.labels_ == i)[0] for i in range(clf_km.n_clusters)}\n",
    "unique_clusters"
   ]
  },
  {
   "cell_type": "code",
   "execution_count": 14,
   "metadata": {},
   "outputs": [],
   "source": [
    "def get_info_index():\n",
    "    h_vals = df.values\n",
    "    zones = {}\n",
    "    for i, j in unique_clusters.items():\n",
    "        h_z = []\n",
    "        for h in list(j):\n",
    "            h_ll = (h_vals[h][0], h_vals[h][1], h_vals[h][2], h_vals[h][5])\n",
    "            h_z.append(h_ll)\n",
    "        zones[i] = h_z\n",
    "    return zones"
   ]
  },
  {
   "cell_type": "markdown",
   "metadata": {},
   "source": [
    "The above function helps to get the data values for the seperated clusters based on the index values. We retrieve the seperated data and visualize it on `Folium` map showing the hospital name and the category of it."
   ]
  },
  {
   "cell_type": "code",
   "execution_count": 15,
   "metadata": {
    "scrolled": false
   },
   "outputs": [
    {
     "data": {
      "text/plain": [
       "{0: [('Jindal naturecure institute',\n",
       "   13.052367977100282,\n",
       "   77.48331328506973,\n",
       "   'Medical'),\n",
       "  ('Care.fit', 13.024602, 77.63698, 'Medical'),\n",
       "  ('Posture Clinic', 12.909196, 77.640271, 'Medical'),\n",
       "  ('Ortho Cure Clinic', 13.018993, 77.592536, 'Medical'),\n",
       "  ('Lucid Medical Diagnostics',\n",
       "   12.93080353380445,\n",
       "   77.57959752723141,\n",
       "   'Medical'),\n",
       "  ('Navkar Medicals', 12.92963148158496, 77.57172294344674, 'Medical'),\n",
       "  ('Telerad Rx Dx', 12.976767539978027, 77.71036529541016, 'Medical'),\n",
       "  ('Sri Sri Ayurveda Hospital',\n",
       "   12.822264693544481,\n",
       "   77.5215019147042,\n",
       "   'Medical')],\n",
       " 1: [('Sagar Hospital', 12.928225576232041, 77.59992227595576, 'Hospital'),\n",
       "  ('Fortis International Care',\n",
       "   12.894674408021086,\n",
       "   77.59906726125102,\n",
       "   'Hospital'),\n",
       "  ('Manipal Hospital', 12.959238002772027, 77.64920827561428, 'Hospital'),\n",
       "  ('Columbia Asia Hospital', 13.05084408247966, 77.5937501415846, 'Hospital'),\n",
       "  ('Apollo Hospital', 12.896249721282821, 77.59865309218557, 'Hospital'),\n",
       "  ('Sakra World Hospital', 12.93186215273751, 77.68547229162522, 'Hospital'),\n",
       "  ('St. Johns Medical College',\n",
       "   12.929368878557996,\n",
       "   77.61843632339915,\n",
       "   'Hospital'),\n",
       "  ('Columbia Asia Referral Hospital',\n",
       "   13.014142040062659,\n",
       "   77.55585867527387,\n",
       "   'Hospital'),\n",
       "  ('Chinmaya Mission Hospital',\n",
       "   12.977869931552695,\n",
       "   77.64595630239737,\n",
       "   'Hospital'),\n",
       "  ('M.S Ramaiah Memorial Hospital',\n",
       "   13.028492212966777,\n",
       "   77.56978010219363,\n",
       "   'Hospital'),\n",
       "  ('Narayana Medical Centre', 12.95662, 77.605771, 'Hospital'),\n",
       "  ('Lokhande Hospital', 13.018612299219841, 77.64790713787079, 'Hospital'),\n",
       "  ('Health Nest', 12.907755008795528, 77.64868784236418, 'Hospital'),\n",
       "  (\"St John's Hospital\", 12.929770270202248, 77.61855380990583, 'Hospital'),\n",
       "  ('Specialist Hospital', 13.017063463436982, 77.64306664341667, 'Hospital'),\n",
       "  ('Cloudnine', 12.93384602972523, 77.58399360492385, 'Hospital'),\n",
       "  ('Narayana Nethralaya', 13.011556174082251, 77.55206436794326, 'Hospital'),\n",
       "  ('NU hospital', 12.917941720829026, 77.55589936303735, 'Hospital'),\n",
       "  ('Cloud Nine Hospital', 12.987815, 77.731995, 'Hospital'),\n",
       "  ('People Tree Hospitals', 13.028644700131176, 77.53950252893566, 'Hospital'),\n",
       "  ('Shanti Hospital And Research Centre',\n",
       "   12.920052694629563,\n",
       "   77.57737008860951,\n",
       "   'Hospital'),\n",
       "  ('Columbia Asia Hospital', 12.919932, 77.665342, 'Hospital'),\n",
       "  ('Cloudnine', 13.007732417569134, 77.56253825813867, 'Hospital'),\n",
       "  ('RamaKrishna Smart Hospitals',\n",
       "   12.853699001611776,\n",
       "   77.66245159858349,\n",
       "   'Hospital'),\n",
       "  ('BGS Global hospital', 12.90329410645685, 77.49748865679739, 'Hospital'),\n",
       "  ('Cratis Hospital', 13.048178672790527, 77.64508819580078, 'Hospital'),\n",
       "  ('Columbia Asia', 12.958036374124424, 77.7457334558238, 'Hospital'),\n",
       "  ('Dr. Malathi Manipal Hospital',\n",
       "   12.914809094839457,\n",
       "   77.61937621201959,\n",
       "   'Hospital'),\n",
       "  ('Sri Venkteshwara Clinic', 12.9152, 77.610214, 'Hospital'),\n",
       "  ('Sagar Hospital Kumaraswamy Layout',\n",
       "   12.908110084704036,\n",
       "   77.56481824013346,\n",
       "   'Hospital'),\n",
       "  ('Manipal Hospital, Whitefield', 12.988572, 77.728825, 'Hospital'),\n",
       "  ('Citi Hospital', 12.995281391796295, 77.55082213970996, 'Hospital'),\n",
       "  (\"St. Martha's Hospital\", 12.969271477201454, 77.58544574394801, 'Hospital'),\n",
       "  ('Aster CMI Hospital', 13.054517946119105, 77.59207110983094, 'Hospital'),\n",
       "  ('Vikram Hospital', 12.988449594584456, 77.59199314905337, 'Hospital')],\n",
       " 2: [('Clove Dental', 12.907504, 77.663732, \"Dentist's Office\"),\n",
       "  ('Specialists Dental Center',\n",
       "   12.972011356195901,\n",
       "   77.63592367908167,\n",
       "   \"Dentist's Office\")],\n",
       " 3: [('Magnus Healthcare & Research Centre Pvt. Ltd.',\n",
       "   12.917455601205704,\n",
       "   77.62598318371484,\n",
       "   'Medical Lab'),\n",
       "  ('Ebisu Diagnostics', 12.912013, 77.64824, 'Medical Lab')],\n",
       " 4: [(\"Dr. Ahmed's Wellcare Orthopaedic Centre\",\n",
       "   12.995316533699349,\n",
       "   77.61158466339111,\n",
       "   \"Doctor's Office\"),\n",
       "  ('Stairs Physiotherapy & Fitness',\n",
       "   12.988256,\n",
       "   77.617477,\n",
       "   'Physical Therapist'),\n",
       "  ('Atlas Chiropractic', 12.9772005, 77.63849, 'Chiropractors')]}"
      ]
     },
     "execution_count": 15,
     "metadata": {},
     "output_type": "execute_result"
    }
   ],
   "source": [
    "hospital_zones = get_info_index()\n",
    "hospital_zones"
   ]
  },
  {
   "cell_type": "markdown",
   "metadata": {},
   "source": [
    "We will set different colors for differ catergories and by running through a loop we will plot the respective coordinates."
   ]
  },
  {
   "cell_type": "code",
   "execution_count": 16,
   "metadata": {
    "scrolled": false
   },
   "outputs": [
    {
     "data": {
      "text/html": [
       "<div style=\"width:100%;\"><div style=\"position:relative;width:100%;height:0;padding-bottom:60%;\"><iframe src=\"data:text/html;charset=utf-8;base64,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\" style=\"position:absolute;width:100%;height:100%;left:0;top:0;border:none !important;\" allowfullscreen webkitallowfullscreen mozallowfullscreen></iframe></div></div>"
      ],
      "text/plain": [
       "<folium.folium.Map at 0x7ffb60419c10>"
      ]
     },
     "execution_count": 16,
     "metadata": {},
     "output_type": "execute_result"
    }
   ],
   "source": [
    "colors = ['#135bc3', '#7e06a8', '#b80745', '#34af02', '#f7e105']\n",
    "\n",
    "hospital_clusters = folium.Map(location=[LAT, LON], zoom_start=11)\n",
    "\n",
    "for cate in range(len(hospital_zones)):\n",
    "    for details in hospital_zones[cate]:\n",
    "        lat = details[1]\n",
    "        lon = details[2]\n",
    "        label = details[0] + ', ' + details[3]\n",
    "        folium.CircleMarker(\n",
    "            [lat, lon],\n",
    "            radius=5,\n",
    "            popup=label,\n",
    "            color=colors[cate],\n",
    "            fill=True,\n",
    "            fill_color=colors[cate],\n",
    "            fill_opacity=0.7\n",
    "        ).add_to(hospital_clusters)\n",
    "\n",
    "hospital_clusters"
   ]
  },
  {
   "cell_type": "markdown",
   "metadata": {},
   "source": [
    "The above `folium` visualization shows the hospitals that are clustered according to the `Category`. As we see, there are majorly `Hospitals` that are speclised for all types of diseases but not specifically to a particular type. As of now I have only considered one locality but we can take different localities. We just need to the `LAT` and `LON` coordinates and then we can obtain the analysis and visulization pertaining to that locality."
   ]
  },
  {
   "cell_type": "markdown",
   "metadata": {},
   "source": [
    "There are few objectives which I could not achieve due to some data insuffiency. But we can either way enhance this project by having some more inputs and certain criterion that need to be studied and certain research methodologies need to consider in order to take it to the next step."
   ]
  },
  {
   "cell_type": "markdown",
   "metadata": {},
   "source": [
    "### Overall it was a fun project doing coding and analysis of something which I  was unaware of. `HAPPY CODING` `HAPPY LEARNING`."
   ]
  },
  {
   "cell_type": "markdown",
   "metadata": {},
   "source": [
    "## Credits"
   ]
  },
  {
   "cell_type": "markdown",
   "metadata": {},
   "source": [
    "* Google Images $\\rightarrow$ http://goaspro.com/wp-content/uploads/2019/05/screenshot-eu-gb.dataplatform.cloud_.ibm_.com-2019.05.13-09-41-23.png"
   ]
  }
 ],
 "metadata": {
  "kernelspec": {
   "display_name": "Python 3",
   "language": "python",
   "name": "python3"
  },
  "language_info": {
   "codemirror_mode": {
    "name": "ipython",
    "version": 3
   },
   "file_extension": ".py",
   "mimetype": "text/x-python",
   "name": "python",
   "nbconvert_exporter": "python",
   "pygments_lexer": "ipython3",
   "version": "3.7.4"
  }
 },
 "nbformat": 4,
 "nbformat_minor": 2
}
