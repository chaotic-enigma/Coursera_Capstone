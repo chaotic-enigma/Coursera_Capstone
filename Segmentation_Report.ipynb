{
 "cells": [
  {
   "cell_type": "markdown",
   "metadata": {},
   "source": [
    "<h1><center>Segmentation of Hospitals via Category (Report)</center></h1> Name : Mohammed Sameeruddin\n",
    "\n",
    "Date : 22-9-2019"
   ]
  },
  {
   "cell_type": "markdown",
   "metadata": {},
   "source": [
    "## Table of Contents"
   ]
  },
  {
   "cell_type": "markdown",
   "metadata": {},
   "source": [
    "1. #### Abstract\n",
    "2. #### Introduction\n",
    "3. #### Methodology\n",
    "4. #### Results\n",
    "5. #### Discussion\n",
    "6. #### Conclusion\n",
    "7. #### References"
   ]
  },
  {
   "cell_type": "markdown",
   "metadata": {},
   "source": [
    "## Abstract"
   ]
  },
  {
   "cell_type": "markdown",
   "metadata": {},
   "source": [
    "The main aim of this project is to cluster or segment the hospitals based on the category in order to help the patient in better deciding and to consult a doctor from which he is comfortable more. Regarding this we proceed with some data science techniques in order to understand the data and obtain some valuable insights pertaining to the data."
   ]
  },
  {
   "cell_type": "markdown",
   "metadata": {},
   "source": [
    "## Introduction"
   ]
  },
  {
   "cell_type": "markdown",
   "metadata": {},
   "source": [
    "Often times it makes very difficult for a patient or a sufferer to choose the best hospital for his/her problem. They basically end up surfing online and what not. In order to reduce this, we can develop a user interface application where the patient can search for his/her problem and based on the user's location it should be able to segregate all the hospitals with a specific category and a breif summary or information about each cluster in order to help patient go with his/her valid decision.\n",
    "\n",
    "<img src=\"example_image.png\">\n",
    "\n",
    "By leveraging **Foursquare API**, we can easily get all the hospital locations and by keeping the patient's location center, we can show all the hospitals on a map.\n",
    "\n",
    "This is to note that based on the patient's location, at `max` we get `50` data values and we will proceed to segregate those data with accordance to the location."
   ]
  },
  {
   "cell_type": "markdown",
   "metadata": {},
   "source": [
    "## Methodology"
   ]
  },
  {
   "cell_type": "markdown",
   "metadata": {},
   "source": [
    "#### **Analytic Approach**"
   ]
  },
  {
   "cell_type": "markdown",
   "metadata": {},
   "source": [
    "The main objective of this project is to study and make a valid inference for which the patient can be recommended the best hospital to get treatment. The things that we mainly require is the `Hospital Data` pertaining to the patient's location. Once the data is obtained we can do some research studies and recommend the best out of the best."
   ]
  },
  {
   "cell_type": "markdown",
   "metadata": {},
   "source": [
    "#### **Data Requirements and Collection**"
   ]
  },
  {
   "cell_type": "markdown",
   "metadata": {},
   "source": [
    "In order to get the hospital data as per the patient's location we can make use of **Foursquare API** that takes `Lat` & `Lng` a unique `CategoryID` that can differentiate the hospitals from other venues. This is obtained by passing in the `client_id` and `client_secret` along with the sepcified `limit`. As mentioned in the previous section, it was only possible to get `50` data values at `max`.\n",
    "\n",
    "Once the data is obtained in the form of `JSON`, we have to `parse` it as per our convenience and thus it should be able to make a `pandas` `DataFrame`. \n",
    "\n",
    "As of now I just took `Bangalore` coordinates. Using this, we obtained only `Bangalore` hospital data."
   ]
  },
  {
   "cell_type": "raw",
   "metadata": {},
   "source": [
    "LAT = 12.9716\n",
    "LON = 77.5946\n",
    "\n",
    "data = getAllHospitals(LAT, LON) # function that grabs the data"
   ]
  },
  {
   "cell_type": "markdown",
   "metadata": {},
   "source": [
    "#### **Data Understanding**"
   ]
  },
  {
   "cell_type": "markdown",
   "metadata": {},
   "source": [
    "There is field in the datasets which says `Category`. This field describes the type of the hospital and we can easily find the total number of counts for each category and plot with the `pandas` `plot()` function. The following is the obtained result (Note: We have got only 50 hospitals as per the usage of the API).\n",
    "\n",
    "<img src=\"types.png\">\n",
    "\n",
    "As thought so, we have `Hospitals` in leading other than other clinics. On further exploratory data analysis we developed a `one-hot-encoded` data frame by dropping the fields that are no way useful."
   ]
  },
  {
   "cell_type": "markdown",
   "metadata": {},
   "source": [
    "## Results"
   ]
  },
  {
   "cell_type": "markdown",
   "metadata": {},
   "source": [
    "#### **Model Evaluation**"
   ]
  },
  {
   "cell_type": "markdown",
   "metadata": {},
   "source": [
    "Since we want to cluster the different categories of hospitals, we have to `KMeans()` clustering algorithm. We all know it is an `iteratively` learning algorithm, it develops cluster through learning and for our data it clustered pretty fast."
   ]
  },
  {
   "cell_type": "raw",
   "metadata": {},
   "source": [
    "clf_km = KMeans(n_clusters=5).fit(temp_df)\n",
    "unique_clusters = {i: np.where(clf_km.labels_ == i)[0] \n",
    "                        for i in range(clf_km.n_clusters)}\n",
    "print(unique_clusters)\n",
    "\n",
    "{0: [10, 16, 17, 26, 32, 36, 39, 44],\n",
    " 1: [0, 1, 2, 3, 4, 5, 6, 7, 8, 9, 14, 15, 19, 20, 21, 22, 23, 24, 25, 27, 28, 29, 30, 33, 34, 35, 38, 40, 41, 42, 43, 45, 46, 47,49]),\n",
    " 2: [13, 18],\n",
    " 3: [31, 37],\n",
    " 4: [11, 12, 48]\n",
    "}"
   ]
  },
  {
   "cell_type": "markdown",
   "metadata": {},
   "source": [
    "The above code returns the clusters along with the indices of the values. Now we need to extract the original data values using these indices."
   ]
  },
  {
   "cell_type": "raw",
   "metadata": {},
   "source": [
    "hospital_zones = get_info_index() # function that is used to extract\n",
    "hospital_zones"
   ]
  },
  {
   "cell_type": "markdown",
   "metadata": {},
   "source": [
    "Once we obtain the values, it is easy to visualize the clusters on the map and indicate a specific color for each cluster that can be used to differentiate clusters from each other. We use `folium` maps to visualize the results.\n",
    "\n",
    "<img src=\"cluster_map.png\">\n",
    "\n",
    "Hence the clusters of the map based on its category."
   ]
  },
  {
   "cell_type": "markdown",
   "metadata": {},
   "source": [
    "## Discussion"
   ]
  },
  {
   "cell_type": "markdown",
   "metadata": {},
   "source": [
    "* There are few objectives which I could not achieve due to some data insuffiency. But we can either way enhance this project by having some more inputs and certain criterion that need to be studied and certain research methodologies that need to be considered in order to take it to the next step.\n",
    "\n",
    "* We can sort of automate the obtaining of patient's location and develop a user interface application that suffices all the needs."
   ]
  },
  {
   "cell_type": "markdown",
   "metadata": {},
   "source": [
    "## Conclusion"
   ]
  },
  {
   "cell_type": "markdown",
   "metadata": {},
   "source": [
    "Overall, while working on this project, helped me think like a data scientist in a way to obtain a good result. Moreover, in terms of business perspective it is very useful. That's all I want to say. "
   ]
  },
  {
   "cell_type": "markdown",
   "metadata": {},
   "source": [
    "## References"
   ]
  },
  {
   "cell_type": "markdown",
   "metadata": {},
   "source": [
    "* Google Images $\\rightarrow$ http://goaspro.com/wp-content/uploads/2019/05/screenshot-eu-gb.dataplatform.cloud_.ibm_.com-2019.05.13-09-41-23.png"
   ]
  }
 ],
 "metadata": {
  "kernelspec": {
   "display_name": "Python 3",
   "language": "python",
   "name": "python3"
  },
  "language_info": {
   "codemirror_mode": {
    "name": "ipython",
    "version": 3
   },
   "file_extension": ".py",
   "mimetype": "text/x-python",
   "name": "python",
   "nbconvert_exporter": "python",
   "pygments_lexer": "ipython3",
   "version": "3.7.4"
  }
 },
 "nbformat": 4,
 "nbformat_minor": 2
}
